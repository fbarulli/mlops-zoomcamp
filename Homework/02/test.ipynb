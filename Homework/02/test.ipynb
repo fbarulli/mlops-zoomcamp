{
 "cells": [
  {
   "cell_type": "code",
   "execution_count": 10,
   "id": "27752594",
   "metadata": {},
   "outputs": [],
   "source": [
    "import seaborn as sns\n",
    "import matplotlib.pyplot as plt\n",
    "import pickle\n",
    "import pandas as pd\n",
    "\n",
    "from sklearn.feature_extraction import DictVectorizer\n",
    "from sklearn.linear_model import LinearRegression\n",
    "from sklearn.linear_model import Lasso\n",
    "from sklearn.linear_model import Ridge\n",
    "\n",
    "from sklearn.metrics import root_mean_squared_error\n",
    "\n",
    "from typing import Tuple\n",
    "\n",
    "\n",
    "import logging \n",
    "\n",
    "logging.basicConfig(\n",
    "    level=logging.INFO,  # Set the logging level to INFO\n",
    "    format='%(asctime)s - %(name)s - %(levelname)s - %(message)s',  # Log format\n",
    "    handlers=[\n",
    "        logging.StreamHandler()  # Output logs to console (Jupyter output)\n",
    "    ]\n",
    ")\n",
    "\n",
    "logger = logging.getLogger(__name__)\n"
   ]
  },
  {
   "cell_type": "code",
   "execution_count": null,
   "metadata": {},
   "outputs": [
    {
     "name": "stderr",
     "output_type": "stream",
     "text": [
      "2025-05-23 16:09:24,957 - __main__ - INFO - Downloading data\n",
      "2025-05-23 16:09:25,091 - __main__ - INFO - Data Downloaded\n"
     ]
    }
   ],
   "source": [
    "def download_data() -> Tuple[pd.DataFrame, pd.DataFrame, pd.DataFrame]:\n",
    "    try:\n",
    "        logger.info(\"Downloading data\")\n",
    "        green_jan = pd.read_parquet('https://d37ci6vzurychx.cloudfront.net/trip-data/green_tripdata_2023-01.parquet')\n",
    "        green_feb = pd.read_parquet('https://d37ci6vzurychx.cloudfront.net/trip-data/green_tripdata_2023-02.parquet')\n",
    "        green_mar = pd.read_parquet('https://d37ci6vzurychx.cloudfront.net/trip-data/green_tripdata_2023-03.parquet')\n",
    "        logger.info(\"Data Downloaded\")\n",
    "        return green_jan, green_feb, green_mar\n",
    "    except Exception as e:\n",
    "        logger.exception(\"Failed Downloading Data\")\n",
    "\n",
    "\n",
    "green_jan, green_feb, green_mar = download_data()"
   ]
  },
  {
   "cell_type": "code",
   "execution_count": null,
   "metadata": {},
   "outputs": [],
   "source": [
    "def download_data() -> Tuple[pd.DataFrame, pd.DataFrame, pd.DataFrame]:\n",
    "    try:\n",
    "        logger.info(\"Downloading data\")\n",
    "        green_jan = pd.read_parquet('https://d37ci6vzurychx.cloudfront.net/trip-data/green_tripdata_2023-01.parquet')\n",
    "        green_feb = pd.read_parquet('https://d37ci6vzurychx.cloudfront.net/trip-data/green_tripdata_2023-02.parquet')\n",
    "        green_mar = pd.read_parquet('https://d37ci6vzurychx.cloudfront.net/trip-data/green_tripdata_2023-03.parquet')\n",
    "        logger.info(\"Data Downloaded\")\n",
    "        return green_jan, green_feb, green_mar\n",
    "    except Exception as e:\n",
    "        logger.exception(\"Failed Downloading Data\")\n",
    "def preprocess(df):\n",
    "    try:\n",
    "        logger.info(\"Processing data\")\n",
    "        df['duration'] = df['lpep_dropoff_datetime'] - df['lpep_pickup_datetime']\n",
    "        df.duration = df.duration.apply(lambda td: td.total_seconds() / 60)\n",
    "        df = df[(df.duration >= 1) & (df.duration <= 60)]\n",
    "\n",
    "        categorical = ['PULocationID', 'DOLocationID']\n",
    "        df[categorical] = df[categorical].astype(str)\n",
    "        logger.info(\"Data Processed\")\n",
    "        return df\n",
    "    except Exception as e:\n",
    "        logger.exception(\"Preprocessing Failed\")\n",
    "\n",
    "def extract_x_y(df):\n",
    "    try:\n",
    "        logger.info(\"Setting XY\")\n",
    "        target = 'duration'\n",
    "        y_train = df[target].values\n",
    "        y_val = df[target].values\n",
    "        y_test = df[target].values\n",
    "        logger.info(\"XY Set\")\n",
    "        return target, y_train, y_val, y_test\n",
    "    except Exception as e:\n",
    "        logger.exception(\"Could not extract XY\")\n",
    "        \n",
    "def fit_dict(df_train, df_val, df_test):\n",
    "    logger.info(\"Vectorizing Dict\")\n",
    "    dv = DictVectorizer()\n",
    "    X_train, dv = preprocess(df_train, dv, fit_dv=True)\n",
    "    X_val, _ = preprocess(df_val, dv, fit_dv=False)\n",
    "    X_test, _ = preprocess(df_test, dv, fit_dv=False)\n",
    "\n",
    "    \n",
    "    \n",
    "    \n",
    "    \n",
    "\n"
   ]
  },
  {
   "cell_type": "code",
   "execution_count": null,
   "metadata": {},
   "outputs": [],
   "source": []
  },
  {
   "cell_type": "code",
   "execution_count": null,
   "metadata": {},
   "outputs": [],
   "source": []
  },
  {
   "cell_type": "code",
   "execution_count": null,
   "metadata": {},
   "outputs": [],
   "source": []
  },
  {
   "cell_type": "code",
   "execution_count": null,
   "metadata": {},
   "outputs": [],
   "source": []
  },
  {
   "cell_type": "code",
   "execution_count": null,
   "metadata": {},
   "outputs": [],
   "source": []
  },
  {
   "cell_type": "code",
   "execution_count": null,
   "metadata": {},
   "outputs": [],
   "source": []
  },
  {
   "cell_type": "code",
   "execution_count": null,
   "metadata": {},
   "outputs": [],
   "source": []
  },
  {
   "cell_type": "code",
   "execution_count": null,
   "metadata": {},
   "outputs": [],
   "source": []
  },
  {
   "cell_type": "code",
   "execution_count": null,
   "metadata": {},
   "outputs": [],
   "source": []
  },
  {
   "cell_type": "code",
   "execution_count": null,
   "metadata": {},
   "outputs": [],
   "source": []
  },
  {
   "cell_type": "code",
   "execution_count": null,
   "metadata": {},
   "outputs": [],
   "source": []
  },
  {
   "cell_type": "code",
   "execution_count": null,
   "id": "1c05a1b6",
   "metadata": {},
   "outputs": [],
   "source": []
  }
 ],
 "metadata": {
  "kernelspec": {
   "display_name": "Python 3",
   "language": "python",
   "name": "python3"
  },
  "language_info": {
   "codemirror_mode": {
    "name": "ipython",
    "version": 3
   },
   "file_extension": ".py",
   "mimetype": "text/x-python",
   "name": "python",
   "nbconvert_exporter": "python",
   "pygments_lexer": "ipython3",
   "version": "3.12.9"
  }
 },
 "nbformat": 4,
 "nbformat_minor": 5
}
